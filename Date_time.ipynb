{
 "cells": [
  {
   "cell_type": "code",
   "execution_count": null,
   "id": "3f4b4192-1604-4fd5-b5b1-728332b01ca5",
   "metadata": {},
   "outputs": [],
   "source": [
    "from datetime import datetime\n",
    "curr_time = datetime.now()\n",
    "curr_hour = curr_time.hour\n",
    "if curr_hour > 12:\n",
    "    print(\"Good afternoon Sir the time is :\",curr_time)\n",
    "elif curr_hour < 12 : \n",
    "    print(\"Good afternoon Sir the time is :\",curr_time)\n",
    "else:\n",
    "    print(\"The Current time is 12'0 clock\")\n",
    "    "
   ]
  }
 ],
 "metadata": {
  "kernelspec": {
   "display_name": "Python 3 (ipykernel)",
   "language": "python",
   "name": "python3"
  },
  "language_info": {
   "codemirror_mode": {
    "name": "ipython",
    "version": 3
   },
   "file_extension": ".py",
   "mimetype": "text/x-python",
   "name": "python",
   "nbconvert_exporter": "python",
   "pygments_lexer": "ipython3",
   "version": "3.12.4"
  }
 },
 "nbformat": 4,
 "nbformat_minor": 5
}
